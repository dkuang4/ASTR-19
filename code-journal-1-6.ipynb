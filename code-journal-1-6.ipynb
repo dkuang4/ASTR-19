{
 "cells": [
  {
   "cell_type": "markdown",
   "id": "ecb604f7-c6bb-4e95-936f-ee36d52b95eb",
   "metadata": {},
   "source": [
    "This program is for Code Journal 1, prompt 6."
   ]
  },
  {
   "cell_type": "markdown",
   "id": "d1edf171-2f03-4304-852e-9cac5a851b11",
   "metadata": {},
   "source": [
    "First we import the numpy library that allows us to use trig functions, and import the Table class from astropy.table so we can tabulate the data."
   ]
  },
  {
   "cell_type": "code",
   "execution_count": 25,
   "id": "51c436ea-0e31-4bde-991b-b8073bc4f6a7",
   "metadata": {},
   "outputs": [],
   "source": [
    "import numpy as np\n",
    "from astropy.table import Table"
   ]
  },
  {
   "cell_type": "markdown",
   "id": "7e633404-eb27-4b81-8e05-fcc63fb371a6",
   "metadata": {},
   "source": [
    "Next we define functions that return sin(x) and cos(x)."
   ]
  },
  {
   "cell_type": "code",
   "execution_count": 26,
   "id": "666dd4eb-0230-47e0-9ad6-9c0c48b1f5d1",
   "metadata": {},
   "outputs": [],
   "source": [
    "def sin(x):\n",
    "    y1 = np.sin(x)\n",
    "    return y1"
   ]
  },
  {
   "cell_type": "code",
   "execution_count": 27,
   "id": "7e7be3b1-dd16-4b61-8aaf-29a5417d63d4",
   "metadata": {},
   "outputs": [],
   "source": [
    "def cos(x):\n",
    "    y2 = np.cos(x)\n",
    "    return y2"
   ]
  },
  {
   "cell_type": "markdown",
   "id": "b0364a37-6f76-4753-9e8d-25bf70c5c655",
   "metadata": {},
   "source": [
    "Next we make an array to represent 1000 values of x between 0 and 2*pi, which we then pass through the sin() and cos() functions defined earlier to make 2 more arrays. The three arrays are then put into an astropy table."
   ]
  },
  {
   "cell_type": "code",
   "execution_count": 28,
   "id": "f63fdfb6-b96e-4fa5-a2f1-324ad46fb4ee",
   "metadata": {},
   "outputs": [
    {
     "name": "stdout",
     "output_type": "stream",
     "text": [
      "         x                    sin(x)               cos(x)      \n",
      "-------------------- ----------------------- ------------------\n",
      "                 0.0                     0.0                1.0\n",
      "0.006289474781961547    0.006289433316067751 0.9999802213186832\n",
      "0.012578949563923095    0.012578617838741058 0.9999208860571255\n",
      "0.018868424345884642     0.01886730478446709 0.9998219965624732\n",
      " 0.02515789912784619    0.025155245389375847 0.9996835567465339\n",
      " 0.03144737390980774      0.0314421909191206 0.9995055720856215\n",
      "0.037736848691769284     0.03772789267871718   0.99928804962034\n",
      " 0.04402632347373083     0.04401210202238166 0.9990309979553044\n",
      " 0.05031579825569238     0.05029457036336618 0.9987344272588006\n",
      "0.056605273037653926    0.056575049183792345 0.9983983492623831\n",
      "                 ...                     ...                ...\n",
      "    6.22029055935997    -0.06285329004448273 0.9980227772604111\n",
      "   6.226580034141932   -0.056575049183792726  0.998398349262383\n",
      "   6.232869508923893    -0.05029457036336704 0.9987344272588006\n",
      "   6.239158983705855    -0.04401210202238211 0.9990309979553044\n",
      "   6.245448458487816     -0.0377278926787181   0.99928804962034\n",
      "   6.251737933269778   -0.031442190919121114 0.9995055720856215\n",
      "   6.258027408051739    -0.02515524538937684 0.9996835567465338\n",
      "   6.264316882833701   -0.018867304784467676 0.9998219965624732\n",
      "   6.270606357615662   -0.012578617838742121 0.9999208860571255\n",
      "   6.276895832397624   -0.006289433316068405 0.9999802213186832\n",
      "   6.283185307179586 -2.4492935982947064e-16                1.0\n",
      "Length = 1000 rows\n"
     ]
    }
   ],
   "source": [
    "x_array = np.linspace(0, 2*np.pi, 1000)\n",
    "sin_array = sin(x_array)\n",
    "cos_array = cos(x_array)\n",
    "trig_table = Table([x_array, sin_array, cos_array], names=['x','sin(x)','cos(x)'])\n",
    "print(trig_table)"
   ]
  },
  {
   "cell_type": "markdown",
   "id": "cea2afe2-d7e4-4ef1-8c40-e404b3b3ad94",
   "metadata": {},
   "source": [
    "Finally, this for loop prints the first 10 values of the x, sin(x), and cos(x) arrays."
   ]
  },
  {
   "cell_type": "code",
   "execution_count": 29,
   "id": "26f17534-262b-4dcf-92dc-d201697c1729",
   "metadata": {},
   "outputs": [
    {
     "name": "stdout",
     "output_type": "stream",
     "text": [
      "0.0 0.0 1.0\n",
      "0.006289474781961547 0.006289433316067751 0.9999802213186832\n",
      "0.012578949563923095 0.012578617838741058 0.9999208860571255\n",
      "0.018868424345884642 0.01886730478446709 0.9998219965624732\n",
      "0.02515789912784619 0.025155245389375847 0.9996835567465339\n",
      "0.03144737390980774 0.0314421909191206 0.9995055720856215\n",
      "0.037736848691769284 0.03772789267871718 0.99928804962034\n",
      "0.04402632347373083 0.04401210202238166 0.9990309979553044\n",
      "0.05031579825569238 0.05029457036336618 0.9987344272588006\n",
      "0.056605273037653926 0.056575049183792345 0.9983983492623831\n"
     ]
    }
   ],
   "source": [
    "for i in range(10):\n",
    "    print(x_array[i], sin_array[i], cos_array[i])"
   ]
  }
 ],
 "metadata": {
  "kernelspec": {
   "display_name": "Python 3 (ipykernel)",
   "language": "python",
   "name": "python3"
  },
  "language_info": {
   "codemirror_mode": {
    "name": "ipython",
    "version": 3
   },
   "file_extension": ".py",
   "mimetype": "text/x-python",
   "name": "python",
   "nbconvert_exporter": "python",
   "pygments_lexer": "ipython3",
   "version": "3.11.5"
  }
 },
 "nbformat": 4,
 "nbformat_minor": 5
}
